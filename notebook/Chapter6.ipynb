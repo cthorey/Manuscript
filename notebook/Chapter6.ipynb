{
 "metadata": {
  "name": "",
  "signature": "sha256:e31e4df23e3f37dd8f161628c30097e304370c86db2d41dffb10bd28b2a5c90d"
 },
 "nbformat": 3,
 "nbformat_minor": 0,
 "worksheets": [
  {
   "cells": [
    {
     "cell_type": "code",
     "collapsed": false,
     "input": [
      "%load_ext autoreload\n",
      "%autoreload 2\n",
      "%matplotlib inline\n",
      "\n",
      "import seaborn as sns\n",
      "import sys,os\n",
      "import matplotlib.pylab as plt\n",
      "import matplotlib as mpl\n",
      "%matplotlib inline\n",
      "import numpy as np\n",
      "import cPickle as pickle\n",
      "import pandas as pd\n",
      "Root = '/Users/thorey/Documents/These/Manuscript/notebook'\n",
      "os.chdir(Root)\n",
      "print os.getcwd()\n",
      "from IPython.display import Latex\n",
      "\n",
      "# %qtconsole #Load a connect kernel in a qtconsole\n",
      "\n",
      "from sympy import *\n",
      "init_printing(use_unicode=True)\n",
      "\n",
      "from Load_Utils import *\n",
      "from Chapter6 import *\n",
      "from Plot import *\n",
      "\n",
      "Plot.path_save = '/Users/thorey/Documents/These/Projet/Refroidissement/Skin_Model/Figure/Figure_Heating/'"
     ],
     "language": "python",
     "outputs": [
      {
       "output_type": "stream",
       "stream": "stdout",
       "text": [
        "/Users/thorey/Documents/These/Manuscript/notebook\n"
       ]
      }
     ],
     "prompt_number": 1
    },
    {
     "cell_type": "code",
     "collapsed": false,
     "input": [],
     "language": "python",
     "outputs": []
    }
   ]
  }
 ]
}