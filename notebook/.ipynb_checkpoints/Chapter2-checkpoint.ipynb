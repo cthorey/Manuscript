{
 "metadata": {
  "name": "",
  "signature": "sha256:7621eff65599f9d236e636efdb4aa4137fcd7b0c12d4a9b34da4a4d18e7f7ba0"
 },
 "nbformat": 3,
 "nbformat_minor": 0,
 "worksheets": []
}