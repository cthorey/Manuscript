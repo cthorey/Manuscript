{
 "metadata": {
  "name": "",
  "signature": "sha256:3f1fc2d2cef5d7f8d050362be37561055718996140c53b0f6bf794431ca7cd9e"
 },
 "nbformat": 3,
 "nbformat_minor": 0,
 "worksheets": [
  {
   "cells": [
    {
     "cell_type": "code",
     "collapsed": false,
     "input": [
      "%load_ext autoreload\n",
      "%autoreload 2\n",
      "%matplotlib inline\n",
      "\n",
      "import seaborn as sns\n",
      "import sys,os\n",
      "import matplotlib.pylab as plt\n",
      "import matplotlib as mpl\n",
      "%matplotlib inline\n",
      "import numpy as np\n",
      "import cPickle as pickle\n",
      "import pandas as pd\n",
      "Root = '/Users/thorey/Documents/These/Manuscript/notebook'\n",
      "os.chdir(Root)\n",
      "print os.getcwd()\n",
      "from IPython.display import Latex\n",
      "\n",
      "# %qtconsole #Load a connect kernel in a qtconsole\n",
      "\n",
      "from sympy import *\n",
      "init_printing(use_unicode=True)\n",
      "\n",
      "from Load_Utils import *\n",
      "from Chapter2 import *\n",
      "from Plot import *\n",
      "\n",
      "Plot.path_save = '/Users/thorey/Documents/These/Projet/Refroidissement/Skin_Model/Figure/Figure_Heating/'"
     ],
     "language": "python",
     "outputs": [
      {
       "output_type": "stream",
       "stream": "stdout",
       "text": [
        "The autoreload extension is already loaded. To reload it, use:\n",
        "  %reload_ext autoreload\n",
        "/Users/thorey/Documents/These/Manuscript/notebook\n"
       ]
      }
     ],
     "prompt_number": 61
    },
    {
     "cell_type": "heading",
     "level": 1,
     "source": [
      "C2-ELAS_GRAV_Sigma"
     ]
    },
    {
     "cell_type": "code",
     "collapsed": false,
     "input": [
      "dir_w = '/Users/thorey/Documents/These/Projet/Refroidissement/Skin_Model/SCAPAD/ELAS_GRAV/MSkin_TSc_Newton_HSc_Newton_RBercovici/Workspace_2015-03-30_0/'\n",
      "Dict = {'Sigma': ['3D-2'],\n",
      "        'Delta0': ['5D-3'],\n",
      "        'Grav': ['1D0'],\n",
      "        'El': ['1D0'],\n",
      "        'Nu': ['1D0'],\n",
      "        'Pe': ['1D0'],\n",
      "        'Psi': ['0D0'],\n",
      "        'Gamma' :['0D0','1D0'],\n",
      "        'Interval_Tmps':['1D20'],\n",
      "        'N1' : ['1D5'],\n",
      "        'Dr' : ['1D-2'],\n",
      "        'Eps': ['1D-4'],'M':['4D3'],'Dt':['1D-7']}\n",
      "d_w = load_run(Dict,dir_w,1.2)\n",
      "fig = Figure_chapter_2(d_w)\n",
      "fig.m_initialize_mpl()\n",
      "ratio = .9\n",
      "fig.font_legend = 11\n",
      "fig.font_label = 16\n",
      "fig.font = 16\n",
      "fig.figsize = (15*ratio,6*ratio)\n",
      "fig.x_lim = 1e-5,1e4\n",
      "fig.fig_b = True\n",
      "fig.fig_name = 'C2_ELAS_GRAV_Sigma'\n",
      "fig.C2_ELAS_GRAV_Sigma()"
     ],
     "language": "python",
     "outputs": []
    },
    {
     "cell_type": "heading",
     "level": 1,
     "source": [
      "C2-ELAS_GRAV_Profil"
     ]
    },
    {
     "cell_type": "code",
     "collapsed": false,
     "input": [],
     "language": "python",
     "outputs": []
    }
   ]
  }
 ]
}