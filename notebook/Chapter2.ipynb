{
 "cells": [
  {
   "cell_type": "code",
   "execution_count": 21,
   "metadata": {
    "collapsed": false,
    "tags": [
     "worksheet-0"
    ]
   },
   "outputs": [
    {
     "name": "stdout",
     "output_type": "stream",
     "text": [
      "The autoreload extension is already loaded. To reload it, use:\n",
      "  %reload_ext autoreload\n",
      "/Users/thorey/Documents/These/Manuscript/notebook\n"
     ]
    }
   ],
   "source": [
    "%load_ext autoreload\n",
    "%autoreload 2\n",
    "%matplotlib inline\n",
    "\n",
    "import seaborn as sns\n",
    "import sys,os\n",
    "import matplotlib.pylab as plt\n",
    "import matplotlib as mpl\n",
    "%matplotlib inline\n",
    "import numpy as np\n",
    "import cPickle as pickle\n",
    "import pandas as pd\n",
    "Root = '/Users/thorey/Documents/These/Manuscript/notebook'\n",
    "os.chdir(Root)\n",
    "print os.getcwd()\n",
    "from IPython.display import Latex\n",
    "\n",
    "# %qtconsole #Load a connect kernel in a qtconsole\n",
    "\n",
    "from sympy import *\n",
    "init_printing(use_unicode=True)\n",
    "\n",
    "from Load_Utils import *\n",
    "from Chapter2 import *\n",
    "from Plot import *\n",
    "\n",
    "Plot.path_save = '/Users/thorey/Documents/These/Projet/Refroidissement/Skin_Model/Figure/Figure_Heating/'\n",
    "root = '/Users/thorey/Documents/These/Projet/Refroidissement/Skin_Model/SCAPAD/'"
   ]
  },
  {
   "cell_type": "markdown",
   "metadata": {
    "collapsed": true,
    "tags": [
     "worksheet-0"
    ]
   },
   "source": [
    "plt.plot(1)"
   ]
  },
  {
   "cell_type": "markdown",
   "metadata": {
    "collapsed": true,
    "tags": [
     "worksheet-0"
    ]
   },
   "source": [
    "# C2-ELAS_GRAV_Sigma"
   ]
  },
  {
   "cell_type": "code",
   "execution_count": 26,
   "metadata": {
    "collapsed": false,
    "tags": [
     "worksheet-0"
    ]
   },
   "outputs": [
    {
     "data": {
      "text/plain": [
       "<matplotlib.figure.Figure at 0x111f0f0d0>"
      ]
     },
     "metadata": {},
     "output_type": "display_data"
    },
    {
     "name": "stdout",
     "output_type": "stream",
     "text": [
      "\n"
     ]
    },
    {
     "name": "stdout",
     "output_type": "stream",
     "text": [
      "\n",
      "Bercovici\n",
      "el1.0_gr1.0_de0.005_si0.02_nu1.0_Pe1.0_Ps1.0_N1100000.0_ga1.0_In1e+20_M8000.0_Dt1e-07_Dr0.01_ep0.0001 Succesfully load"
     ]
    },
    {
     "name": "stdout",
     "output_type": "stream",
     "text": [
      "Bercovici\n",
      "el1.0_gr1.0_de0.005_si0.02_nu1.0_Pe1.0_Ps1.0_N1100000.0_ga0.0_In1e+20_M8000.0_Dt1e-07_Dr0.01_ep0.0001 Succesfully load"
     ]
    }
   ],
   "source": [
    "dir_w = os.path.join(root,'ELASGRAV','MSkin_TSc_Newton_HSc_Newton_RBercovici','Workspace_2015-07-05_0')\n",
    "Dict = {'Sigma': ['2D-2'],\n",
    "        'Delta0': ['5D-3'],\n",
    "        'Grav': ['1D0'],\n",
    "        'El': ['1D0'],\n",
    "        'Nu': ['1D0'],\n",
    "        'Pe': ['1D0'],\n",
    "        'Psi': ['1D0'],\n",
    "        'Gamma' :['0D0','1D0'],\n",
    "        'Interval_Tmps':['1D20'],\n",
    "        'N1' : ['1D5'],\n",
    "        'Dr' : ['1D-2'],\n",
    "        'Eps': ['1D-4'],'M':['8D3'],'Dt':['1D-7']}\n",
    "d_w = load_run(Dict,dir_w,1.2)\n",
    "fig = Figure_chapter_2(d_w)\n",
    "fig.m_initialize_mpl()\n",
    "ratio = .9\n",
    "fig.font_legend = 11\n",
    "fig.font_label = 16\n",
    "fig.font = 16\n",
    "fig.figsize = (15*ratio,6*ratio)\n",
    "fig.x_lim = 1e-5,1e4\n",
    "fig.fig_b = True\n",
    "fig.fig_name = 'C2_ELAS_GRAV_Sigma'\n",
    "fig.C2_ELAS_GRAV_Sigma()"
   ]
  },
  {
   "cell_type": "markdown",
   "metadata": {
    "collapsed": true,
    "tags": [
     "worksheet-0"
    ]
   },
   "source": [
    "# C2-ELAS_GRAV_Profil"
   ]
  },
  {
   "cell_type": "code",
   "execution_count": null,
   "metadata": {
    "collapsed": false,
    "tags": [
     "worksheet-0"
    ]
   },
   "outputs": [],
   "source": []
  }
 ],
 "metadata": {
  "kernelspec": {
   "display_name": "Python 2",
   "language": "python",
   "name": "python2"
  },
  "language_info": {
   "codemirror_mode": {
    "name": "ipython",
    "version": 2
   },
   "file_extension": ".py",
   "mimetype": "text/x-python",
   "name": "python",
   "nbconvert_exporter": "python",
   "pygments_lexer": "ipython2",
   "version": "2.7.10"
  },
  "name": "Chapter2.ipynb"
 },
 "nbformat": 4,
 "nbformat_minor": 0
}
